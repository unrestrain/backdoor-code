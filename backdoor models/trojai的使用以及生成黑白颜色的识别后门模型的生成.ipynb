{
 "cells": [
  {
   "cell_type": "markdown",
   "metadata": {},
   "source": [
    "# trojai库是在深度学习的后门攻防中用于快速生成投毒数据和后门模型的工具包。 "
   ]
  },
  {
   "cell_type": "markdown",
   "metadata": {},
   "source": [
    "## trojai的数据处理模块"
   ]
  },
  {
   "cell_type": "code",
   "execution_count": 1,
   "metadata": {},
   "outputs": [],
   "source": [
    "import matplotlib.pyplot as plt\n",
    "import matplotlib.image as mp\n",
    "import numpy as np\n",
    "from tqdm import tqdm\n",
    "import torch\n",
    "import torchvision"
   ]
  },
  {
   "cell_type": "markdown",
   "metadata": {},
   "source": [
    "trojai中集成几个比较常用的后门触发器，这些后门触发器可以在trojai.datagen.image_triggers中获得"
   ]
  },
  {
   "cell_type": "code",
   "execution_count": 2,
   "metadata": {},
   "outputs": [
    {
     "data": {
      "text/plain": [
       "<matplotlib.image.AxesImage at 0x7f8b8cbdde50>"
      ]
     },
     "execution_count": 2,
     "metadata": {},
     "output_type": "execute_result"
    },
    {
     "data": {
      "image/png": "[encoded data removed]",
      "text/plain": [
       "<Figure size 432x288 with 1 Axes>"
      ]
     },
     "metadata": {
      "needs_background": "light"
     },
     "output_type": "display_data"
    }
   ],
   "source": [
    "from trojai.datagen import image_triggers\n",
    "\n",
    "# lamnda trigger\n",
    "trigger = image_triggers.ReverseLambdaPattern(num_rows=3,num_cols=3,num_chan=3,trigger_cval=128)\n",
    "plt.imshow(trigger.get_data())"
   ]
  },
  {
   "cell_type": "markdown",
   "metadata": {},
   "source": [
    "旋转变换"
   ]
  },
  {
   "cell_type": "code",
   "execution_count": 3,
   "metadata": {},
   "outputs": [
    {
     "data": {
      "image/png": "[encoded data removed]",
      "text/plain": [
       "<Figure size 432x288 with 1 Axes>"
      ]
     },
     "metadata": {
      "needs_background": "light"
     },
     "output_type": "display_data"
    },
    {
     "data": {
      "image/png": "[encoded data removed]",
      "text/plain": [
       "<Figure size 432x288 with 1 Axes>"
      ]
     },
     "metadata": {
      "needs_background": "light"
     },
     "output_type": "display_data"
    }
   ],
   "source": [
    "from trojai.datagen import image_affine_xforms\n",
    "from trojai.datagen import image_triggers\n",
    "\n",
    "trigger = image_triggers.ReverseLambdaPattern(5,5,3,255)\n",
    "plt.imshow(trigger.get_data())\n",
    "plt.show()\n",
    "\n",
    "rotate_obj = image_affine_xforms.RotateXForm(90)\n",
    "trigger = rotate_obj.do(trigger, None)\n",
    "plt.imshow(trigger.get_data())\n",
    "plt.show()"
   ]
  },
  {
   "cell_type": "markdown",
   "metadata": {},
   "source": [
    "融合操作"
   ]
  },
  {
   "cell_type": "code",
   "execution_count": 4,
   "metadata": {},
   "outputs": [
    {
     "data": {
      "image/png": "[encoded data removed]",
      "text/plain": [
       "<Figure size 432x288 with 1 Axes>"
      ]
     },
     "metadata": {
      "needs_background": "light"
     },
     "output_type": "display_data"
    },
    {
     "name": "stderr",
     "output_type": "stream",
     "text": [
      "Clipping input data to the valid range for imshow with RGB data ([0..1] for floats or [0..255] for integers).\n"
     ]
    },
    {
     "data": {
      "image/png": "[encoded data removed]",
      "text/plain": [
       "<Figure size 432x288 with 1 Axes>"
      ]
     },
     "metadata": {
      "needs_background": "light"
     },
     "output_type": "display_data"
    }
   ],
   "source": [
    "from trojai.datagen import insert_merges\n",
    "from trojai.datagen import image_triggers\n",
    "from trojai.datagen import image_entity\n",
    "\n",
    "trigger = image_triggers.ReverseLambdaPattern(5,5,3,255)\n",
    "merge_obj = insert_merges.InsertAtLocation(np.array([[5,5],[5,5],[5,5]]))\n",
    "image = image_entity.GenericImageEntity(np.ones((64,64,3))*0.5)\n",
    "plt.imshow(image.get_data())\n",
    "plt.title('before merge')\n",
    "plt.show()\n",
    "\n",
    "merge_image = merge_obj.do(image, trigger, None)\n",
    "plt.imshow(merge_image.get_data())\n",
    "plt.title('after merge')\n",
    "plt.show()\n"
   ]
  },
  {
   "cell_type": "markdown",
   "metadata": {},
   "source": [
    "### 数据生成"
   ]
  },
  {
   "cell_type": "markdown",
   "metadata": {},
   "source": [
    "首先自己生成一个清洁的数据和相应的文档，文档格式为csv，内容分为两列，分别为file和label，file是每一个清洁数据相对于文档的相对路径，label是每一个数据的正确标签。这里自定义一个最为简单的数据集，每个数据是一张纯色的图片，图片的灰度值在0-1之间（等价于1-255），如果灰度值小于0.5，则标签为0，否则标签为1."
   ]
  },
  {
   "cell_type": "code",
   "execution_count": 152,
   "metadata": {},
   "outputs": [
    {
     "name": "stderr",
     "output_type": "stream",
     "text": [
      "generate dataset for trojai: 100%|██████████| 400/400 [00:00<00:00, 1966.76it/s]\n"
     ]
    }
   ],
   "source": [
    "def genWhiteAndBlackData(num, size, save_dir=None):\n",
    "    import random\n",
    "    image_list = []\n",
    "    label_list = []\n",
    "    for i in range(num):\n",
    "        for label in range(2):\n",
    "            flag = random.random()*0.5\n",
    "            image = np.ones(size)*flag+label*0.5\n",
    "            image_list.append(image)\n",
    "            label_list.append(label)\n",
    "            if save_dir:\n",
    "                mp.imsave(save_dir + '/class_%s_example_%s.png'%(label, i), image)\n",
    "    return image_list, label_list\n",
    "\n",
    "\n",
    "def genDatasetForTrojai(image_list, label_list, datasetDesc, outf, datasetdir, description='generate dataset for trojai'):\n",
    "    o = open(datasetdir + '/' + outf, 'w')\n",
    "    o.write('file,label\\n')\n",
    "    for i in tqdm(range(len(label_list)), desc=description):\n",
    "        filename = datasetdir + '/data/' + datasetDesc+'_'+str(i) + '.jpg'\n",
    "        label = str(label_list[i])\n",
    "        mp.imsave(filename, image_list[i])\n",
    "        o.write('data/' + datasetDesc+'_'+str(i) + '.jpg')\n",
    "        o.write(',')\n",
    "        o.write(label)\n",
    "        o.write('\\n')\n",
    "    o.close()\n",
    "\n",
    "\n",
    "image_list, label_list = genWhiteAndBlackData(200,(64,64,3))\n",
    "genDatasetForTrojai(image_list, label_list, 'white_and_black', 'white_and_black.csv', '/tmp/white_and_black')"
   ]
  },
  {
   "cell_type": "code",
   "execution_count": 153,
   "metadata": {},
   "outputs": [
    {
     "name": "stderr",
     "output_type": "stream",
     "text": [
      "Modifying Clean Dataset ...: 100%|██████████| 40/40 [00:00<00:00, 1002.84it/s]\n",
      "Modifying Clean Dataset ...: 100%|██████████| 400/400 [00:00<00:00, 1150.63it/s]\n"
     ]
    }
   ],
   "source": [
    "from trojai.datagen import image_triggers\n",
    "from trojai.datagen import image_affine_xforms\n",
    "from trojai.datagen import config\n",
    "from trojai.datagen import insert_merges\n",
    "from trojai.datagen import xform_merge_pipeline\n",
    "from trojai.datagen import datatype_xforms\n",
    "\n",
    "\n",
    "my_config = config.XFormMergePipelineConfig(\n",
    "    trigger_list=[image_triggers.ReverseLambdaPattern(3,3,3,255)],\n",
    "    trigger_sampling_prob=None,\n",
    "    trigger_xforms=[],\n",
    "    trigger_bg_xforms=[],\n",
    "    trigger_bg_merge=insert_merges.InsertAtLocation(np.asarray([[5,5],[5,5],[5,5]])),\n",
    "    trigger_bg_merge_xforms=[datatype_xforms.ToTensorXForm()],\n",
    "    merge_type='insert',\n",
    "    per_class_trigger_frac=0.1\n",
    ")\n",
    "\n",
    "xform_merge_pipeline.modify_clean_image_dataset('/tmp/white_and_black', 'white_and_black.csv', '/tmp/white_and_black', 'mod1', my_config)\n",
    "\n",
    "my_config.per_class_trigger_frac = None\n",
    "xform_merge_pipeline.modify_clean_image_dataset('/tmp/white_and_black', 'white_and_black.csv', '/tmp/white_and_black', 'trigger_test', my_config)"
   ]
  },
  {
   "cell_type": "markdown",
   "metadata": {},
   "source": [
    "生成实验"
   ]
  },
  {
   "cell_type": "code",
   "execution_count": 14,
   "metadata": {},
   "outputs": [
    {
     "name": "stderr",
     "output_type": "stream",
     "text": [
      "100%|██████████| 80/80 [00:00<00:00, 1087.44it/s]\n",
      "/usr/local/anaconda3/envs/yz_torch/lib/python3.8/site-packages/pandas/core/frame.py:4906: SettingWithCopyWarning: \n",
      "A value is trying to be set on a copy of a slice from a DataFrame\n",
      "\n",
      "See the caveats in the documentation: https://pandas.pydata.org/pandas-docs/stable/user_guide/indexing.html#returning-a-view-versus-a-copy\n",
      "  return super().drop(\n",
      "100%|██████████| 397/397 [00:00<00:00, 1074.00it/s]\n",
      "/usr/local/anaconda3/envs/yz_torch/lib/python3.8/site-packages/pandas/core/frame.py:4906: SettingWithCopyWarning: \n",
      "A value is trying to be set on a copy of a slice from a DataFrame\n",
      "\n",
      "See the caveats in the documentation: https://pandas.pydata.org/pandas-docs/stable/user_guide/indexing.html#returning-a-view-versus-a-copy\n",
      "  return super().drop(\n",
      "0it [00:00, ?it/s]\n"
     ]
    }
   ],
   "source": [
    "from trojai.datagen import experiment\n",
    "from trojai.datagen import common_label_behaviors\n",
    "\n",
    "behaviors = common_label_behaviors.WrappedAdd(1,2)\n",
    "e = experiment.ClassicExperiment('/tmp/white_and_black', behaviors)\n",
    "train_df = e.create_experiment('/tmp/white_and_black/white_and_black.csv','/tmp/white_and_black/mod1')\n",
    "train_df.to_csv('/tmp/white_and_black/train.csv', index=False)\n",
    "\n",
    "# 生成加入触发器的测试集\n",
    "test_df = e.create_experiment('/tmp/white_and_black/white_and_black.csv','/tmp/white_and_black/trigger_test',trigger_frac=1.0)\n",
    "test_df.to_csv('/tmp/white_and_black/test.csv',index=False)\n",
    "\n",
    "# 生成未加触发器的测试集\n",
    "test_clean_df = e.create_experiment('/tmp/white_and_black/white_and_black.csv','/tmp/white_and_black/clean_test',trigger_frac=0)\n",
    "test_clean_df.to_csv('/tmp/white_and_black/test_clean.csv',index=False)"
   ]
  },
  {
   "cell_type": "markdown",
   "metadata": {},
   "source": [
    "构建数据管理"
   ]
  },
  {
   "cell_type": "code",
   "execution_count": 2,
   "metadata": {},
   "outputs": [],
   "source": [
    "from trojai.modelgen.data_manager import DataManager\n",
    "from trojai.modelgen import architecture_factory\n",
    "from trojai.modelgen.default_optimizer import DefaultOptimizer\n",
    "from trojai.modelgen.config import TrainingConfig, DefaultOptimizerConfig, RunnerConfig\n",
    "from trojai.modelgen.runner import Runner"
   ]
  },
  {
   "cell_type": "code",
   "execution_count": 15,
   "metadata": {},
   "outputs": [],
   "source": [
    "def img_transform(x):\n",
    "    return x.permute(2,0,1)/255.\n",
    "\n",
    "manage_obj = DataManager(\n",
    "    '/tmp/white_and_black', \n",
    "    'train.csv',\n",
    "    'test_clean.csv',\n",
    "    'test.csv',\n",
    "    train_data_transform=img_transform,\n",
    "    test_data_transform=img_transform\n",
    "    )"
   ]
  },
  {
   "cell_type": "markdown",
   "metadata": {},
   "source": [
    "构建随机化参数的空白模型"
   ]
  },
  {
   "cell_type": "code",
   "execution_count": 29,
   "metadata": {},
   "outputs": [],
   "source": [
    "class MyArchefactory(architecture_factory.ArchitectureFactory):\n",
    "    def new_architecture(self):\n",
    "        import torchvision\n",
    "        import torch\n",
    "        model = torchvision.models.resnet18(pretrained=False)\n",
    "        model.fc = torch.nn.Linear(in_features=model.fc.in_features, out_features=2)\n",
    "        return model"
   ]
  },
  {
   "cell_type": "markdown",
   "metadata": {},
   "source": [
    "构建优化器并进行训练"
   ]
  },
  {
   "cell_type": "code",
   "execution_count": 30,
   "metadata": {},
   "outputs": [
    {
     "name": "stderr",
     "output_type": "stream",
     "text": [
      "Training will be VERY SLOW on a CPU with num_batches_per_metrics set to a value other than None.  If validation dataset metrics are still desired, consider increasing this value to speed up training\n",
      "Argument 'persist_metadata' was not None nor type 'dict'. Argument will be ignored.\n",
      "Training will be VERY SLOW on a CPU with num_batches_per_metrics set to a value other than None.  If validation dataset metrics are still desired, consider increasing this value to speed up training\n",
      "Epoch 1/30: 100%|██████████| 23/23 [03:21<00:00,  8.76s/it, avg_train_loss=0.915]\n",
      "Epoch 2/30: 100%|██████████| 23/23 [03:23<00:00,  8.86s/it, avg_train_loss=0.444]\n",
      "Epoch 3/30: 100%|██████████| 23/23 [03:25<00:00,  8.93s/it, avg_train_loss=0.507]\n",
      "Epoch 4/30: 100%|██████████| 23/23 [03:23<00:00,  8.83s/it, avg_train_loss=0.355]\n",
      "Epoch 5/30: 100%|██████████| 23/23 [03:23<00:00,  8.86s/it, avg_train_loss=0.54] \n",
      "Epoch 6/30: 100%|██████████| 23/23 [03:24<00:00,  8.91s/it, avg_train_loss=0.639]\n",
      "Epoch 7/30: 100%|██████████| 23/23 [03:23<00:00,  8.84s/it, avg_train_loss=0.404]\n",
      "Epoch 8/30: 100%|██████████| 23/23 [03:22<00:00,  8.80s/it, avg_train_loss=0.481]\n",
      "Epoch 9/30: 100%|██████████| 23/23 [03:25<00:00,  8.92s/it, avg_train_loss=0.523]\n",
      "Epoch 10/30: 100%|██████████| 23/23 [03:25<00:00,  8.92s/it, avg_train_loss=0.299]\n",
      "Epoch 11/30: 100%|██████████| 23/23 [03:23<00:00,  8.84s/it, avg_train_loss=0.316]\n",
      "Epoch 12/30: 100%|██████████| 23/23 [03:24<00:00,  8.88s/it, avg_train_loss=0.372]\n",
      "Epoch 13/30: 100%|██████████| 23/23 [03:26<00:00,  8.99s/it, avg_train_loss=0.776]\n",
      "Epoch 14/30: 100%|██████████| 23/23 [03:24<00:00,  8.88s/it, avg_train_loss=0.298] \n",
      "Epoch 15/30: 100%|██████████| 23/23 [03:23<00:00,  8.83s/it, avg_train_loss=0.256]\n",
      "Epoch 16/30: 100%|██████████| 23/23 [03:23<00:00,  8.85s/it, avg_train_loss=0.346]\n",
      "Epoch 17/30: 100%|██████████| 23/23 [03:22<00:00,  8.79s/it, avg_train_loss=0.24] \n",
      "Epoch 18/30: 100%|██████████| 23/23 [03:24<00:00,  8.87s/it, avg_train_loss=0.555]\n",
      "Epoch 19/30: 100%|██████████| 23/23 [03:22<00:00,  8.82s/it, avg_train_loss=0.425]\n",
      "Epoch 20/30: 100%|██████████| 23/23 [03:11<00:00,  8.32s/it, avg_train_loss=0.262]\n",
      "Epoch 21/30: 100%|██████████| 23/23 [03:02<00:00,  7.92s/it, avg_train_loss=0.147]\n",
      "Epoch 22/30: 100%|██████████| 23/23 [03:01<00:00,  7.89s/it, avg_train_loss=0.0627]\n",
      "Epoch 23/30: 100%|██████████| 23/23 [03:07<00:00,  8.14s/it, avg_train_loss=0.335]\n",
      "Epoch 24/30: 100%|██████████| 23/23 [03:04<00:00,  8.03s/it, avg_train_loss=0.565]\n",
      "Epoch 25/30: 100%|██████████| 23/23 [02:59<00:00,  7.82s/it, avg_train_loss=0.409] \n",
      "Epoch 26/30: 100%|██████████| 23/23 [03:05<00:00,  8.06s/it, avg_train_loss=0.227] \n",
      "Epoch 27/30: 100%|██████████| 23/23 [03:02<00:00,  7.93s/it, avg_train_loss=0.28]  \n",
      "Epoch 28/30: 100%|██████████| 23/23 [03:03<00:00,  7.97s/it, avg_train_loss=0.0813]\n",
      "Epoch 29/30: 100%|██████████| 23/23 [03:04<00:00,  8.02s/it, avg_train_loss=0.103] \n",
      "Epoch 30/30: 100%|██████████| 23/23 [03:04<00:00,  8.01s/it, avg_train_loss=0.372] \n"
     ]
    }
   ],
   "source": [
    "train_config = TrainingConfig(\n",
    "    device='cpu',\n",
    "    epochs=30, \n",
    "    batch_size=16,\n",
    "    lr=0.01,\n",
    ")\n",
    "\n",
    "optim_config = DefaultOptimizerConfig(train_config, None)\n",
    "optim = DefaultOptimizer(optim_config)\n",
    "\n",
    "runner_config = RunnerConfig(MyArchefactory(), manage_obj, optimizer=optim, model_save_dir='/tmp/white_and_black/models',filename='model.pt')\n",
    "runner = Runner(runner_config)\n",
    "runner.run()"
   ]
  },
  {
   "cell_type": "markdown",
   "metadata": {},
   "source": [
    "测试训练的模型效果"
   ]
  },
  {
   "cell_type": "code",
   "execution_count": 17,
   "metadata": {},
   "outputs": [],
   "source": [
    "# 获取训练数据集。训练数据集是由清洁数据和投毒数据组成的，投毒数据站相应的比例\n",
    "trainloader = torch.utils.data.DataLoader(next(manage_obj.load_data()[0]), batch_size=8)\n",
    "# 获取清洁测试数据集，清洁测试数据集完全由清洁数据组成\n",
    "testloader = torch.utils.data.DataLoader(manage_obj.load_data()[1], batch_size=8)\n",
    "# 获取测试数据集，测试数据集完全由投毒数据组成\n",
    "poisoned_loader = torch.utils.data.DataLoader(manage_obj.load_data()[2], batch_size=8)"
   ]
  },
  {
   "cell_type": "code",
   "execution_count": 18,
   "metadata": {},
   "outputs": [
    {
     "name": "stdout",
     "output_type": "stream",
     "text": [
      "dataloader acc\n",
      "|-------------|---------|---------|\n",
      "| Iteration   |    loss |     acc |\n",
      "|-------------|---------|---------|\n",
      "| 0/50        | 0.05519 | 1.00000 |\n",
      "| 16/50       | 0.08808 | 1.00000 |\n",
      "| 32/50       | 0.40857 | 0.75000 |\n",
      "| 48/50       | 0.19026 | 0.87500 |\n",
      "|---------|---------|---------|\n",
      "|    loss |     acc |    time |\n",
      "|---------|---------|---------|\n",
      "| 0.14367 | 0.96250 | 0.43974 |\n",
      "testloader acc\n",
      "|-------------|---------|---------|\n",
      "| Iteration   |    loss |     acc |\n",
      "|-------------|---------|---------|\n",
      "| 0/50        | 0.06300 | 1.00000 |\n",
      "| 16/50       | 0.09290 | 1.00000 |\n",
      "| 32/50       | 0.02872 | 1.00000 |\n",
      "| 48/50       | 0.09510 | 1.00000 |\n",
      "|---------|---------|---------|\n",
      "|    loss |     acc |    time |\n",
      "|---------|---------|---------|\n",
      "| 0.08006 | 0.99500 | 0.42056 |\n",
      "triggeloader acc\n",
      "|-------------|---------|---------|\n",
      "| Iteration   |    loss |     acc |\n",
      "|-------------|---------|---------|\n",
      "| 0/50        | 0.34827 | 0.87500 |\n",
      "| 16/50       | 0.50775 | 0.87500 |\n",
      "| 32/50       | 0.26893 | 0.87500 |\n",
      "| 48/50       | 0.38178 | 0.75000 |\n",
      "|---------|---------|---------|\n",
      "|    loss |     acc |    time |\n",
      "|---------|---------|---------|\n",
      "| 0.34823 | 0.83750 | 0.41315 |\n"
     ]
    }
   ],
   "source": [
    "import train_utils\n",
    "\n",
    "model = torch.load('/tmp/white_and_black/models/model.pt.2')\n",
    "print('dataloader acc')\n",
    "train_utils.test_model(model, trainloader, torch.nn.CrossEntropyLoss(), device='cuda:0')\n",
    "print('testloader acc')\n",
    "train_utils.test_model(model, testloader, torch.nn.CrossEntropyLoss(), device='cuda:0')\n",
    "print('triggeloader acc')\n",
    "train_utils.test_model(model, poisoned_loader, torch.nn.CrossEntropyLoss(), device='cuda:0')"
   ]
  }
 ],
 "metadata": {
  "interpreter": {
   "hash": "a30afbd80699cc1c0fde0f7bf8569ef099f0a9d606168c388b13ef738d500199"
  },
  "kernelspec": {
   "display_name": "Python 3.8.12 ('yz_torch')",
   "language": "python",
   "name": "python3"
  },
  "language_info": {
   "codemirror_mode": {
    "name": "ipython",
    "version": 3
   },
   "file_extension": ".py",
   "mimetype": "text/x-python",
   "name": "python",
   "nbconvert_exporter": "python",
   "pygments_lexer": "ipython3",
   "version": "3.8.12"
  },
  "orig_nbformat": 4
 },
 "nbformat": 4,
 "nbformat_minor": 2
}
